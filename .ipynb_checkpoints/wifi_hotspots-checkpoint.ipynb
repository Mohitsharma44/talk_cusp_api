{
 "cells": [
  {
   "cell_type": "code",
   "execution_count": null,
   "metadata": {
    "collapsed": false
   },
   "outputs": [],
   "source": [
    "'''\n",
    "This module uses the sodapy API\n",
    "to querry the nyc wifi hotspots data\n",
    "provided at \n",
    "https://nycopendata.socrata.com/City-Government/NYC-Wi-Fi-Hotspot-Locations/yjub-udmw?\n",
    "for wifi service provided by downtown brooklyn partnership\n",
    "and plots the information on google maps\n",
    "creating an html file in your current location.\n",
    "Author: Mohit Sharma\n",
    "Organization: NYU CUSP\n",
    "Date: Aug 25, 2015\n",
    "'''\n",
    "__author__ = 'Mohit Sharma'\n",
    "__version__ = 'Demo'\n",
    "from sodapy import Socrata\n",
    "from pygmaps import maps"
   ]
  },
  {
   "cell_type": "code",
   "execution_count": null,
   "metadata": {
    "collapsed": false
   },
   "outputs": [],
   "source": [
    "# I have stored my password (that I use to login at Socrata)\n",
    "# in a text file.\n",
    "with open('pwd.txt', 'r') as f:\n",
    "    pwd = f.readline()"
   ]
  },
  {
   "cell_type": "code",
   "execution_count": null,
   "metadata": {
    "collapsed": false
   },
   "outputs": [],
   "source": [
    "# Create a Socrata (client) Object\n",
    "client = Socrata(domain=\"data.cityofnewyork.us\", app_token=\"3iLvxGFqvCCxBqucwCck4yEcN\", username=\"mohitsharma44@gmail.com\", password=pwd.strip('\\n'))"
   ]
  },
  {
   "cell_type": "code",
   "execution_count": null,
   "metadata": {
    "collapsed": false
   },
   "outputs": [],
   "source": [
    "# Now use client's get method to querry the data from the \n",
    "# requested resource\n",
    "tp = client.get(\"/resource/yjub-udmw.json\", where=\"provider='Downtown Brooklyn'\", limit=10 )"
   ]
  },
  {
   "cell_type": "code",
   "execution_count": null,
   "metadata": {
    "collapsed": false
   },
   "outputs": [],
   "source": [
    "# Initialize a map  with latitude and longitude of center point  \n",
    "# and map zoom level\n",
    "mymap = maps(40.6931177,-73.9867438, 14)"
   ]
  },
  {
   "cell_type": "code",
   "execution_count": null,
   "metadata": {
    "collapsed": false
   },
   "outputs": [],
   "source": [
    "# add points on map for all the wifi hotspots \n",
    "# using the object created above.\n",
    "for i in range(len(tp)):\n",
    "    mymap.addpoint(float(tp[i]['location_lat_long']['latitude']), float(tp[i]['location_lat_long']['longitude']), \"#0000FF\", title=tp[i]['location'])"
   ]
  },
  {
   "cell_type": "code",
   "execution_count": null,
   "metadata": {
    "collapsed": true
   },
   "outputs": [],
   "source": [
    "# Create a map inside current working directory.\n",
    "mymap.draw('./mymap.html')"
   ]
  }
 ],
 "metadata": {
  "kernelspec": {
   "display_name": "Python 2",
   "language": "python",
   "name": "python2"
  },
  "language_info": {
   "codemirror_mode": {
    "name": "ipython",
    "version": 2
   },
   "file_extension": ".py",
   "mimetype": "text/x-python",
   "name": "python",
   "nbconvert_exporter": "python",
   "pygments_lexer": "ipython2",
   "version": "2.7.10"
  }
 },
 "nbformat": 4,
 "nbformat_minor": 0
}
