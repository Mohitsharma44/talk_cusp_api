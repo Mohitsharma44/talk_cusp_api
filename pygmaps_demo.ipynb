{
 "cells": [
  {
   "cell_type": "code",
   "execution_count": 33,
   "metadata": {
    "collapsed": false
   },
   "outputs": [],
   "source": [
    "import pygmaps \n",
    "import webbrowser "
   ]
  },
  {
   "cell_type": "code",
   "execution_count": 31,
   "metadata": {
    "collapsed": true
   },
   "outputs": [],
   "source": [
    "mymap = pygmaps.maps(37.428, -122.145, 16)\n",
    "#mymap.setgrids(37.42, 37.43, 0.001, -122.15, -122.14, 0.001)\n",
    "mymap.addpoint(37.427, -122.145, \"#0000FF\") \n",
    "#mymap.addradpoint(37.429, -122.145, 95, \"#FF0000\")\n"
   ]
  },
  {
   "cell_type": "code",
   "execution_count": 32,
   "metadata": {
    "collapsed": false
   },
   "outputs": [
    {
     "data": {
      "text/plain": [
       "True"
      ]
     },
     "execution_count": 32,
     "metadata": {},
     "output_type": "execute_result"
    }
   ],
   "source": [
    "#path = [(37.429, -122.145),(37.428, -122.145),(37.427, -122.145),(37.427, -122.146),(37.427, -122.146)] \n",
    "#mymap.addpath(path,\"#00FF00\") \n",
    "mymap.draw('./mymap.draw.html')\n",
    "url = url = 'mymap.draw.html'\n",
    "webbrowser.open_new_tab(url) "
   ]
  },
  {
   "cell_type": "code",
   "execution_count": null,
   "metadata": {
    "collapsed": true
   },
   "outputs": [],
   "source": []
  }
 ],
 "metadata": {
  "kernelspec": {
   "display_name": "Python 2",
   "language": "python",
   "name": "python2"
  },
  "language_info": {
   "codemirror_mode": {
    "name": "ipython",
    "version": 2
   },
   "file_extension": ".py",
   "mimetype": "text/x-python",
   "name": "python",
   "nbconvert_exporter": "python",
   "pygments_lexer": "ipython2",
   "version": "2.7.10"
  }
 },
 "nbformat": 4,
 "nbformat_minor": 0
}
